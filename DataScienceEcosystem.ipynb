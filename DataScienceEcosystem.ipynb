{
 "cells": [
  {
   "cell_type": "markdown",
   "id": "81884a2a-f281-43ee-a62f-d7d051a4fe44",
   "metadata": {},
   "source": [
    "# Data science Tools and Ecosystem"
   ]
  },
  {
   "cell_type": "markdown",
   "id": "2efff0aa-63e1-4b27-8e79-833bd0b5afd8",
   "metadata": {},
   "source": [
    "In this notebook, Data science tools and ecosystem are summarized."
   ]
  },
  {
   "cell_type": "markdown",
   "id": "a541aa78-1c82-4c44-876f-7c465904acbb",
   "metadata": {},
   "source": [
    "Some of the commonly used languages used by Data Scientists are:\n",
    "1. Python\n",
    "2. R\n",
    "3. sql"
   ]
  },
  {
   "cell_type": "markdown",
   "id": "62a017b6-1611-4392-94a1-27b0ee7679b4",
   "metadata": {},
   "source": [
    "Some of the commonly used libraries used by Data Scientists include:\n",
    "1. Pandas\n",
    "2. TensorFlow\n",
    "3. GGplot\n",
    "4. plotly\n"
   ]
  },
  {
   "cell_type": "markdown",
   "id": "c5544322-0db0-4ffe-8a6f-fc2aad21e36e",
   "metadata": {},
   "source": [
    "| Data Science Tools |\n",
    "| :-|\n",
    "| RStudio |\n",
    "| JupyterLab |\n",
    "| MySql |"
   ]
  },
  {
   "cell_type": "markdown",
   "id": "b85e7ebc-c675-40e8-8331-98352aadcf38",
   "metadata": {},
   "source": [
    "### Below are a few examples of evaluating arithmetic expressions in Python"
   ]
  },
  {
   "cell_type": "code",
   "execution_count": 2,
   "id": "520339d4-4085-40b8-b55e-34b869557c38",
   "metadata": {},
   "outputs": [
    {
     "data": {
      "text/plain": [
       "17"
      ]
     },
     "execution_count": 2,
     "metadata": {},
     "output_type": "execute_result"
    }
   ],
   "source": [
    "### This a simple arithmetic expression to mutiply then add integers\n",
    "(3*4)+5"
   ]
  },
  {
   "cell_type": "code",
   "execution_count": 3,
   "id": "37dd1c66-4536-4075-81f4-851a26ca6fc0",
   "metadata": {},
   "outputs": [
    {
     "data": {
      "text/plain": [
       "3.3333333333333335"
      ]
     },
     "execution_count": 3,
     "metadata": {},
     "output_type": "execute_result"
    }
   ],
   "source": [
    "### This will convert 200 minutes to hours by diving by 60\n",
    "200/60"
   ]
  },
  {
   "cell_type": "markdown",
   "id": "6ab81afe-2ba9-400a-b05b-70bcf9b798cc",
   "metadata": {},
   "source": [
    "Objectives:\n",
    "* List of languages used by Data Scientist\n",
    "* List of tools used by Data Scientist\n",
    "* Table of Data Science Tools\n",
    "* Aithematic Expression\n",
    "* Minutes to hours conversion"
   ]
  },
  {
   "cell_type": "markdown",
   "id": "78a954f6-657f-40bc-8b6e-d70cc649e5b4",
   "metadata": {},
   "source": [
    "## Author\n",
    "Siddharath Narayan Shakya "
   ]
  },
  {
   "cell_type": "code",
   "execution_count": null,
   "id": "ca622e29-8a23-495e-82dd-25eaee9d8456",
   "metadata": {},
   "outputs": [],
   "source": []
  }
 ],
 "metadata": {
  "kernelspec": {
   "display_name": "Python",
   "language": "python",
   "name": "conda-env-python-py"
  },
  "language_info": {
   "codemirror_mode": {
    "name": "ipython",
    "version": 3
   },
   "file_extension": ".py",
   "mimetype": "text/x-python",
   "name": "python",
   "nbconvert_exporter": "python",
   "pygments_lexer": "ipython3",
   "version": "3.7.12"
  }
 },
 "nbformat": 4,
 "nbformat_minor": 5
}
